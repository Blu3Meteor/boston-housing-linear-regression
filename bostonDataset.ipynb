{
 "cells": [
  {
   "cell_type": "markdown",
   "id": "66bbf3c3-723b-4e08-a801-cd0ba001274b",
   "metadata": {},
   "source": [
    "# Performing Linear Regression on the Boston Housing Dataset using scikit-learn"
   ]
  },
  {
   "cell_type": "markdown",
   "id": "8eb67201",
   "metadata": {},
   "source": [
    "## Getting Started"
   ]
  },
  {
   "cell_type": "markdown",
   "id": "a21b6665-c08e-4e91-ac54-ec375c249bd7",
   "metadata": {},
   "source": [
    "First, we're going to import a few libraries:"
   ]
  },
  {
   "cell_type": "code",
   "execution_count": 2,
   "id": "d705f0f5-c1a9-45c4-ad2e-cb06bd8709e8",
   "metadata": {
    "tags": []
   },
   "outputs": [],
   "source": [
    "import numpy as np\n",
    "import matplotlib.pyplot as plt\n",
    "from numpy.core.fromnumeric import mean\n",
    "import pandas as pd\n",
    "from sklearn.datasets import load_boston\n",
    "from sklearn.linear_model import LinearRegression\n",
    "from sklearn.model_selection import train_test_split\n",
    "from sklearn.metrics import mean_squared_error"
   ]
  },
  {
   "cell_type": "markdown",
   "id": "2520cdd5-0fe1-4fc0-9f9d-b10f46d7ba58",
   "metadata": {},
   "source": [
    "Next, we load the dataset into a variable 'boston_dataset'."
   ]
  },
  {
   "cell_type": "code",
   "execution_count": 3,
   "id": "ce0517c0-48aa-4380-ba22-aa9607c247a4",
   "metadata": {},
   "outputs": [],
   "source": [
    "boston_dataset = load_boston()"
   ]
  },
  {
   "cell_type": "markdown",
   "id": "56ebb122-2423-42fe-afe7-cb693d24c3ac",
   "metadata": {},
   "source": [
    "We then build a Pandas dataframe using the dataset, setting the feature names as the columns. Finally, to make sure the dataframe is loaded, we print its shape (this also gives us some idea about its dimensions). "
   ]
  },
  {
   "cell_type": "code",
   "execution_count": 4,
   "id": "c1279567-6b66-4c30-b377-d2f9bfab3db6",
   "metadata": {},
   "outputs": [
    {
     "name": "stdout",
     "output_type": "stream",
     "text": [
      "(506, 14)\n"
     ]
    }
   ],
   "source": [
    "boston = pd.DataFrame(boston_dataset.data, columns = boston_dataset.feature_names)\n",
    "boston['MEDV'] = boston_dataset.target\n",
    "\n",
    "print(boston.shape)"
   ]
  },
  {
   "cell_type": "markdown",
   "id": "0bf76202-7300-4982-a2ec-df6fd3316c74",
   "metadata": {},
   "source": [
    "As we can see, the dataframe has 506 rows and 14 columns.\n",
    "There is actually a description available for each of the 14 columns which we can access."
   ]
  },
  {
   "cell_type": "code",
   "execution_count": 5,
   "id": "e73466bf-cf56-4184-8a8a-1143623dd74b",
   "metadata": {},
   "outputs": [
    {
     "name": "stdout",
     "output_type": "stream",
     "text": [
      ".. _boston_dataset:\n",
      "\n",
      "Boston house prices dataset\n",
      "---------------------------\n",
      "\n",
      "**Data Set Characteristics:**  \n",
      "\n",
      "    :Number of Instances: 506 \n",
      "\n",
      "    :Number of Attributes: 13 numeric/categorical predictive. Median Value (attribute 14) is usually the target.\n",
      "\n",
      "    :Attribute Information (in order):\n",
      "        - CRIM     per capita crime rate by town\n",
      "        - ZN       proportion of residential land zoned for lots over 25,000 sq.ft.\n",
      "        - INDUS    proportion of non-retail business acres per town\n",
      "        - CHAS     Charles River dummy variable (= 1 if tract bounds river; 0 otherwise)\n",
      "        - NOX      nitric oxides concentration (parts per 10 million)\n",
      "        - RM       average number of rooms per dwelling\n",
      "        - AGE      proportion of owner-occupied units built prior to 1940\n",
      "        - DIS      weighted distances to five Boston employment centres\n",
      "        - RAD      index of accessibility to radial highways\n",
      "        - TAX      full-value property-tax rate per $10,000\n",
      "        - PTRATIO  pupil-teacher ratio by town\n",
      "        - B        1000(Bk - 0.63)^2 where Bk is the proportion of black people by town\n",
      "        - LSTAT    % lower status of the population\n",
      "        - MEDV     Median value of owner-occupied homes in $1000's\n",
      "\n",
      "    :Missing Attribute Values: None\n",
      "\n",
      "    :Creator: Harrison, D. and Rubinfeld, D.L.\n",
      "\n",
      "This is a copy of UCI ML housing dataset.\n",
      "https://archive.ics.uci.edu/ml/machine-learning-databases/housing/\n",
      "\n",
      "\n",
      "This dataset was taken from the StatLib library which is maintained at Carnegie Mellon University.\n",
      "\n",
      "The Boston house-price data of Harrison, D. and Rubinfeld, D.L. 'Hedonic\n",
      "prices and the demand for clean air', J. Environ. Economics & Management,\n",
      "vol.5, 81-102, 1978.   Used in Belsley, Kuh & Welsch, 'Regression diagnostics\n",
      "...', Wiley, 1980.   N.B. Various transformations are used in the table on\n",
      "pages 244-261 of the latter.\n",
      "\n",
      "The Boston house-price data has been used in many machine learning papers that address regression\n",
      "problems.   \n",
      "     \n",
      ".. topic:: References\n",
      "\n",
      "   - Belsley, Kuh & Welsch, 'Regression diagnostics: Identifying Influential Data and Sources of Collinearity', Wiley, 1980. 244-261.\n",
      "   - Quinlan,R. (1993). Combining Instance-Based and Model-Based Learning. In Proceedings on the Tenth International Conference of Machine Learning, 236-243, University of Massachusetts, Amherst. Morgan Kaufmann.\n",
      "\n"
     ]
    }
   ],
   "source": [
    "print(boston_dataset.DESCR)"
   ]
  },
  {
   "cell_type": "markdown",
   "id": "3bfeead7-b255-4a53-ac10-30dabc212779",
   "metadata": {},
   "source": [
    "We can reference this later when we perform our exploratory data analysis and selecting which features to feed our model."
   ]
  },
  {
   "cell_type": "markdown",
   "id": "daa12dbe-a452-44a1-a635-a0e2e046868d",
   "metadata": {},
   "source": [
    "Here are the summary statistics of our dataset."
   ]
  },
  {
   "cell_type": "code",
   "execution_count": 6,
   "id": "f31d4cec-d50f-40cf-8345-6c3a51b9be72",
   "metadata": {},
   "outputs": [
    {
     "name": "stdout",
     "output_type": "stream",
     "text": [
      "         CRIM      ZN   INDUS    CHAS     NOX      RM     AGE     DIS     RAD  \\\n",
      "count  506.00  506.00  506.00  506.00  506.00  506.00  506.00  506.00  506.00   \n",
      "mean     3.61   11.36   11.14    0.07    0.55    6.28   68.57    3.80    9.55   \n",
      "std      8.60   23.32    6.86    0.25    0.12    0.70   28.15    2.11    8.71   \n",
      "min      0.01    0.00    0.46    0.00    0.38    3.56    2.90    1.13    1.00   \n",
      "25%      0.08    0.00    5.19    0.00    0.45    5.89   45.02    2.10    4.00   \n",
      "50%      0.26    0.00    9.69    0.00    0.54    6.21   77.50    3.21    5.00   \n",
      "75%      3.68   12.50   18.10    0.00    0.62    6.62   94.07    5.19   24.00   \n",
      "max     88.98  100.00   27.74    1.00    0.87    8.78  100.00   12.13   24.00   \n",
      "\n",
      "          TAX  PTRATIO       B   LSTAT    MEDV  \n",
      "count  506.00   506.00  506.00  506.00  506.00  \n",
      "mean   408.24    18.46  356.67   12.65   22.53  \n",
      "std    168.54     2.16   91.29    7.14    9.20  \n",
      "min    187.00    12.60    0.32    1.73    5.00  \n",
      "25%    279.00    17.40  375.38    6.95   17.02  \n",
      "50%    330.00    19.05  391.44   11.36   21.20  \n",
      "75%    666.00    20.20  396.22   16.96   25.00  \n",
      "max    711.00    22.00  396.90   37.97   50.00  \n"
     ]
    }
   ],
   "source": [
    "print(boston.describe().round(2))"
   ]
  },
  {
   "cell_type": "markdown",
   "id": "8a245b0f",
   "metadata": {},
   "source": [
    "There are no missing values in any of the features, so that is promising."
   ]
  },
  {
   "cell_type": "markdown",
   "id": "43953dc1",
   "metadata": {},
   "source": [
    "## Exploratory Data Analysis"
   ]
  },
  {
   "cell_type": "markdown",
   "id": "c52bc9cb",
   "metadata": {},
   "source": [
    "Time to get familiar with our data."
   ]
  },
  {
   "cell_type": "markdown",
   "id": "cb8ad327",
   "metadata": {},
   "source": [
    "### Histograms"
   ]
  },
  {
   "cell_type": "markdown",
   "id": "bd8da220",
   "metadata": {},
   "source": [
    "#### CRIM"
   ]
  },
  {
   "cell_type": "code",
   "execution_count": 7,
   "id": "fcb5dd5d",
   "metadata": {},
   "outputs": [
    {
     "data": {
      "image/png": "[encoded data removed]",
      "text/plain": [
       "<Figure size 432x288 with 1 Axes>"
      ]
     },
     "metadata": {
      "needs_background": "light"
     },
     "output_type": "display_data"
    }
   ],
   "source": [
    "boston.hist(column = 'CRIM')\n",
    "plt.savefig(\"CRIM hist.png\")\n",
    "plt.show()"
   ]
  },
  {
   "cell_type": "markdown",
   "id": "b989c0a6",
   "metadata": {},
   "source": [
    "CRIM appears to be right (positively) skewed, with most values between 0 and 9%. Summary stats show that the median is much lesser than the mean, affirming the above."
   ]
  },
  {
   "cell_type": "markdown",
   "id": "fb9cb6b9",
   "metadata": {},
   "source": [
    "#### ZN"
   ]
  },
  {
   "cell_type": "code",
   "execution_count": 8,
   "id": "3f73c863",
   "metadata": {},
   "outputs": [
    {
     "data": {
      "image/png": "[encoded data removed]",
      "text/plain": [
       "<Figure size 432x288 with 1 Axes>"
      ]
     },
     "metadata": {
      "needs_background": "light"
     },
     "output_type": "display_data"
    }
   ],
   "source": [
    "boston.hist(column = 'ZN')\n",
    "plt.savefig(\"ZN hist.png\")\n",
    "plt.show()"
   ]
  },
  {
   "cell_type": "markdown",
   "id": "7b38fa2c",
   "metadata": {},
   "source": [
    "Summary stats show that ZN's mean is much higher than its median. Right (positive) skewness confirmed by graph, so proportion of land zoned is less."
   ]
  },
  {
   "cell_type": "markdown",
   "id": "724d4697",
   "metadata": {},
   "source": [
    "#### INDUS"
   ]
  },
  {
   "cell_type": "code",
   "execution_count": 8,
   "id": "a1cb138c",
   "metadata": {},
   "outputs": [
    {
     "data": {
      "image/png": "[encoded data removed]",
      "text/plain": [
       "<Figure size 432x288 with 1 Axes>"
      ]
     },
     "metadata": {
      "needs_background": "light"
     },
     "output_type": "display_data"
    }
   ],
   "source": [
    "boston.hist(column = 'INDUS')\n",
    "plt.savefig(\"INDUS hist.png\")\n",
    "plt.show()"
   ]
  },
  {
   "cell_type": "markdown",
   "id": "39cfe0c3",
   "metadata": {},
   "source": [
    "INDUS' mean is slightly greater than its median. Slight right (positive) skew confirmed by graph, following a bimodal distribution"
   ]
  },
  {
   "cell_type": "markdown",
   "id": "7d3768d1",
   "metadata": {},
   "source": [
    "#### CHAS"
   ]
  },
  {
   "cell_type": "code",
   "execution_count": 10,
   "id": "7eb5307b",
   "metadata": {},
   "outputs": [
    {
     "data": {
      "image/png": "[encoded data removed]",
      "text/plain": [
       "<Figure size 432x288 with 1 Axes>"
      ]
     },
     "metadata": {
      "needs_background": "light"
     },
     "output_type": "display_data"
    }
   ],
   "source": [
    "boston.hist(column = 'CHAS')\n",
    "plt.savefig(\"CHAS hist.png\")\n",
    "plt.show()"
   ]
  },
  {
   "cell_type": "markdown",
   "id": "a7afd80e",
   "metadata": {},
   "source": [
    "CHAS is mostly 0's (over 450 out of 506 values) so very few houses near the river."
   ]
  },
  {
   "cell_type": "markdown",
   "id": "8c848a63",
   "metadata": {},
   "source": [
    "#### NOX"
   ]
  },
  {
   "cell_type": "code",
   "execution_count": 11,
   "id": "598d0ae2",
   "metadata": {},
   "outputs": [
    {
     "data": {
      "image/png": "[encoded data removed]",
      "text/plain": [
       "<Figure size 432x288 with 1 Axes>"
      ]
     },
     "metadata": {
      "needs_background": "light"
     },
     "output_type": "display_data"
    }
   ],
   "source": [
    "boston.hist(column = 'NOX')\n",
    "plt.savefig(\"NOX hist.png\")\n",
    "plt.show()"
   ]
  },
  {
   "cell_type": "markdown",
   "id": "4fde962b",
   "metadata": {},
   "source": [
    "NOX has similar mean and median. Histogram shows a rough normal dist."
   ]
  },
  {
   "cell_type": "markdown",
   "id": "a7da02af",
   "metadata": {},
   "source": [
    "#### RM"
   ]
  },
  {
   "cell_type": "code",
   "execution_count": 12,
   "id": "ff23d414",
   "metadata": {},
   "outputs": [
    {
     "data": {
      "image/png": "[encoded data removed]",
      "text/plain": [
       "<Figure size 432x288 with 1 Axes>"
      ]
     },
     "metadata": {
      "needs_background": "light"
     },
     "output_type": "display_data"
    }
   ],
   "source": [
    "boston.hist(column = 'RM')\n",
    "plt.savefig(\"RM hist.png\")\n",
    "plt.show()"
   ]
  },
  {
   "cell_type": "markdown",
   "id": "5be8ea7f",
   "metadata": {},
   "source": [
    "RM appears to be normally distributed, the summary stats show median and mean are similar. The histogram plot affirms the same, so the average number of rooms is normally distributed."
   ]
  },
  {
   "cell_type": "markdown",
   "id": "28863ec1",
   "metadata": {},
   "source": [
    "#### AGE"
   ]
  },
  {
   "cell_type": "code",
   "execution_count": 13,
   "id": "057376ba",
   "metadata": {},
   "outputs": [
    {
     "data": {
      "image/png": "[encoded data removed]",
      "text/plain": [
       "<Figure size 432x288 with 1 Axes>"
      ]
     },
     "metadata": {
      "needs_background": "light"
     },
     "output_type": "display_data"
    }
   ],
   "source": [
    "boston.hist(column = 'AGE')\n",
    "plt.savefig(\"AGE hist.png\")\n",
    "plt.show()"
   ]
  },
  {
   "cell_type": "markdown",
   "id": "9c72107c",
   "metadata": {},
   "source": [
    "AGE appears to have a slightly greater median than mean. Histogram shows left (negative) skew, so most of the houses are made before 1940."
   ]
  },
  {
   "cell_type": "markdown",
   "id": "db2e7057",
   "metadata": {},
   "source": [
    "#### DIS"
   ]
  },
  {
   "cell_type": "code",
   "execution_count": 14,
   "id": "40cab934",
   "metadata": {},
   "outputs": [
    {
     "data": {
      "image/png": "[encoded data removed]",
      "text/plain": [
       "<Figure size 432x288 with 1 Axes>"
      ]
     },
     "metadata": {
      "needs_background": "light"
     },
     "output_type": "display_data"
    }
   ],
   "source": [
    "boston.hist(column = 'DIS')\n",
    "plt.savefig('DIS hist.png')\n",
    "plt.show()"
   ]
  },
  {
   "cell_type": "markdown",
   "id": "38476f79",
   "metadata": {},
   "source": [
    "DIS has a slightly greater mean than median. Histogram shows right skew."
   ]
  },
  {
   "cell_type": "markdown",
   "id": "5e0c9472",
   "metadata": {},
   "source": [
    "#### RAD"
   ]
  },
  {
   "cell_type": "code",
   "execution_count": 16,
   "id": "98cf8b83",
   "metadata": {},
   "outputs": [
    {
     "data": {
      "image/png": "[encoded data removed]",
      "text/plain": [
       "<Figure size 432x288 with 1 Axes>"
      ]
     },
     "metadata": {
      "needs_background": "light"
     },
     "output_type": "display_data"
    }
   ],
   "source": [
    "boston.hist(column = 'RAD')\n",
    "plt.savefig(\"RAD hist.png\")\n",
    "plt.show()"
   ]
  },
  {
   "cell_type": "markdown",
   "id": "eaa24eab",
   "metadata": {},
   "source": [
    "RAD has a greater mean than median and 75% (3rd quartile) is much greater than either. Histogram shows right skew, following a bimodal distribution."
   ]
  },
  {
   "cell_type": "markdown",
   "id": "dbd08e26",
   "metadata": {},
   "source": [
    "#### PTRATIO"
   ]
  },
  {
   "cell_type": "code",
   "execution_count": 17,
   "id": "5f0638f3",
   "metadata": {},
   "outputs": [
    {
     "data": {
      "image/png": "[encoded data removed]",
      "text/plain": [
       "<Figure size 432x288 with 1 Axes>"
      ]
     },
     "metadata": {
      "needs_background": "light"
     },
     "output_type": "display_data"
    }
   ],
   "source": [
    "boston.hist(column = 'PTRATIO')\n",
    "plt.savefig(\"PTRATIO hist.png\")\n",
    "plt.show()"
   ]
  },
  {
   "cell_type": "markdown",
   "id": "4e8df934",
   "metadata": {},
   "source": [
    "Mean is slightly smaller than median. Left skew."
   ]
  },
  {
   "cell_type": "markdown",
   "id": "a08a8e84",
   "metadata": {},
   "source": [
    "#### B"
   ]
  },
  {
   "cell_type": "code",
   "execution_count": 18,
   "id": "5edab74f",
   "metadata": {},
   "outputs": [
    {
     "data": {
      "image/png": "[encoded data removed]",
      "text/plain": [
       "<Figure size 432x288 with 1 Axes>"
      ]
     },
     "metadata": {
      "needs_background": "light"
     },
     "output_type": "display_data"
    }
   ],
   "source": [
    "boston.hist(column = \"B\")\n",
    "plt.savefig(\"B hist.png\")\n",
    "plt.show()"
   ]
  },
  {
   "cell_type": "markdown",
   "id": "708ff0ca",
   "metadata": {},
   "source": [
    "Median is greater than mean. Left skew."
   ]
  },
  {
   "cell_type": "markdown",
   "id": "f98726a8",
   "metadata": {},
   "source": [
    "#### LSTAT"
   ]
  },
  {
   "cell_type": "code",
   "execution_count": 19,
   "id": "7ae6992c",
   "metadata": {},
   "outputs": [
    {
     "data": {
      "image/png": "[encoded data removed]",
      "text/plain": [
       "<Figure size 432x288 with 1 Axes>"
      ]
     },
     "metadata": {
      "needs_background": "light"
     },
     "output_type": "display_data"
    }
   ],
   "source": [
    "boston.hist(column = \"LSTAT\")\n",
    "plt.savefig(\"LSTAT hist.png\")\n",
    "plt.show()"
   ]
  },
  {
   "cell_type": "markdown",
   "id": "6387d678",
   "metadata": {},
   "source": [
    "Mean is slightly greater than median. Right skew."
   ]
  },
  {
   "cell_type": "markdown",
   "id": "670756ec",
   "metadata": {},
   "source": [
    "Graphing the data and comparing the mean, medians and quartiles from the summary statistics have allowed us to understand the trends of each individual feature better."
   ]
  },
  {
   "cell_type": "markdown",
   "id": "a67d919c",
   "metadata": {},
   "source": [
    "### Correlations"
   ]
  },
  {
   "cell_type": "code",
   "execution_count": 9,
   "id": "a9f606db",
   "metadata": {},
   "outputs": [
    {
     "name": "stdout",
     "output_type": "stream",
     "text": [
      "         CRIM    ZN  INDUS  CHAS   NOX    RM   AGE   DIS   RAD   TAX  PTRATIO  \\\n",
      "CRIM     1.00 -0.20   0.41 -0.06  0.42 -0.22  0.35 -0.38  0.63  0.58     0.29   \n",
      "ZN      -0.20  1.00  -0.53 -0.04 -0.52  0.31 -0.57  0.66 -0.31 -0.31    -0.39   \n",
      "INDUS    0.41 -0.53   1.00  0.06  0.76 -0.39  0.64 -0.71  0.60  0.72     0.38   \n",
      "CHAS    -0.06 -0.04   0.06  1.00  0.09  0.09  0.09 -0.10 -0.01 -0.04    -0.12   \n",
      "NOX      0.42 -0.52   0.76  0.09  1.00 -0.30  0.73 -0.77  0.61  0.67     0.19   \n",
      "RM      -0.22  0.31  -0.39  0.09 -0.30  1.00 -0.24  0.21 -0.21 -0.29    -0.36   \n",
      "AGE      0.35 -0.57   0.64  0.09  0.73 -0.24  1.00 -0.75  0.46  0.51     0.26   \n",
      "DIS     -0.38  0.66  -0.71 -0.10 -0.77  0.21 -0.75  1.00 -0.49 -0.53    -0.23   \n",
      "RAD      0.63 -0.31   0.60 -0.01  0.61 -0.21  0.46 -0.49  1.00  0.91     0.46   \n",
      "TAX      0.58 -0.31   0.72 -0.04  0.67 -0.29  0.51 -0.53  0.91  1.00     0.46   \n",
      "PTRATIO  0.29 -0.39   0.38 -0.12  0.19 -0.36  0.26 -0.23  0.46  0.46     1.00   \n",
      "B       -0.39  0.18  -0.36  0.05 -0.38  0.13 -0.27  0.29 -0.44 -0.44    -0.18   \n",
      "LSTAT    0.46 -0.41   0.60 -0.05  0.59 -0.61  0.60 -0.50  0.49  0.54     0.37   \n",
      "MEDV    -0.39  0.36  -0.48  0.18 -0.43  0.70 -0.38  0.25 -0.38 -0.47    -0.51   \n",
      "\n",
      "            B  LSTAT  MEDV  \n",
      "CRIM    -0.39   0.46 -0.39  \n",
      "ZN       0.18  -0.41  0.36  \n",
      "INDUS   -0.36   0.60 -0.48  \n",
      "CHAS     0.05  -0.05  0.18  \n",
      "NOX     -0.38   0.59 -0.43  \n",
      "RM       0.13  -0.61  0.70  \n",
      "AGE     -0.27   0.60 -0.38  \n",
      "DIS      0.29  -0.50  0.25  \n",
      "RAD     -0.44   0.49 -0.38  \n",
      "TAX     -0.44   0.54 -0.47  \n",
      "PTRATIO -0.18   0.37 -0.51  \n",
      "B        1.00  -0.37  0.33  \n",
      "LSTAT   -0.37   1.00 -0.74  \n",
      "MEDV     0.33  -0.74  1.00  \n"
     ]
    }
   ],
   "source": [
    "corr_matrix = boston.corr().round(2)\n",
    "print(corr_matrix)"
   ]
  },
  {
   "cell_type": "markdown",
   "id": "7d55d8e8",
   "metadata": {},
   "source": [
    "From the matrix, we see that the most correlated features with our target feature are RM (positive) and LSTAT (-ve)."
   ]
  },
  {
   "cell_type": "code",
   "execution_count": 10,
   "id": "370a9247",
   "metadata": {},
   "outputs": [
    {
     "data": {
      "image/png": "[encoded data removed]",
      "text/plain": [
       "<Figure size 432x288 with 1 Axes>"
      ]
     },
     "metadata": {
      "needs_background": "light"
     },
     "output_type": "display_data"
    }
   ],
   "source": [
    "boston.plot(kind = \"scatter\", x = 'RM', y = 'MEDV')\n",
    "plt.savefig(\"RM scatter.png\")\n",
    "plt.show()"
   ]
  },
  {
   "cell_type": "code",
   "execution_count": 22,
   "id": "53d22cc3",
   "metadata": {},
   "outputs": [
    {
     "data": {
      "image/png": "[encoded data removed]",
      "text/plain": [
       "<Figure size 432x288 with 1 Axes>"
      ]
     },
     "metadata": {
      "needs_background": "light"
     },
     "output_type": "display_data"
    }
   ],
   "source": [
    "boston.plot(kind = \"scatter\", x = 'LSTAT', y = 'MEDV')\n",
    "plt.savefig(\"LSTAT scatter.png\")\n",
    "plt.show()"
   ]
  },
  {
   "cell_type": "markdown",
   "id": "cd08658e",
   "metadata": {},
   "source": [
    "## Feature Selection"
   ]
  },
  {
   "cell_type": "markdown",
   "id": "a173a534",
   "metadata": {},
   "source": [
    "With the information we have from the Exploratory Data Analysis section, we will proceed by selecting RM and LSTAT as the features for our model."
   ]
  },
  {
   "cell_type": "code",
   "execution_count": 11,
   "id": "fc25ebba",
   "metadata": {},
   "outputs": [],
   "source": [
    "X = boston[['RM', 'LSTAT']]\n",
    "y = boston['MEDV']"
   ]
  },
  {
   "cell_type": "markdown",
   "id": "08412f83",
   "metadata": {},
   "source": [
    "## Model Training"
   ]
  },
  {
   "cell_type": "markdown",
   "id": "bc7e1b69",
   "metadata": {},
   "source": [
    "We create an instance of our model from the sklearn LinearRegression class."
   ]
  },
  {
   "cell_type": "code",
   "execution_count": 12,
   "id": "9e9c12d2",
   "metadata": {},
   "outputs": [],
   "source": [
    "model = LinearRegression()"
   ]
  },
  {
   "cell_type": "markdown",
   "id": "9de0ee9c",
   "metadata": {},
   "source": [
    "This code divides the X and y data into two portions: training data and testing data. The test_size parameter sets the proportions of the testing and training data (test_size = 0.3 sets them to 30% and 70% respectively). Giving the random_state a non-zero integer value ensures that the results are reproducible."
   ]
  },
  {
   "cell_type": "code",
   "execution_count": 13,
   "id": "e9951b86",
   "metadata": {},
   "outputs": [],
   "source": [
    "X_train, X_test, y_train, y_test = train_test_split(X, y, test_size = 0.3, random_state = 1)"
   ]
  },
  {
   "cell_type": "markdown",
   "id": "857beaf5",
   "metadata": {},
   "source": [
    "We train our model with the training data (X_train and y_train), then print out the Y-intercept and feature coefficients, which are measurements associated with linear regression."
   ]
  },
  {
   "cell_type": "code",
   "execution_count": 14,
   "id": "77b66de4",
   "metadata": {},
   "outputs": [
    {
     "name": "stdout",
     "output_type": "stream",
     "text": [
      "Y intercept is:  5.32\n",
      "Feature coefficients are:  [ 4.13 -0.68]\n"
     ]
    }
   ],
   "source": [
    "model.fit(X_train, y_train)\n",
    "print(\"Y intercept is: \", model.intercept_.round(2))\n",
    "print(\"Feature coefficients are: \", model.coef_.round(2))"
   ]
  },
  {
   "cell_type": "markdown",
   "id": "fc0e9ed2",
   "metadata": {},
   "source": [
    "## Model Testing"
   ]
  },
  {
   "cell_type": "markdown",
   "id": "e96f91c7",
   "metadata": {},
   "source": [
    "We now use the trained model to predict values from the test data."
   ]
  },
  {
   "cell_type": "code",
   "execution_count": 15,
   "id": "da80945c",
   "metadata": {},
   "outputs": [],
   "source": [
    "y_test_predicted = model.predict(X_test)"
   ]
  },
  {
   "cell_type": "markdown",
   "id": "008efd56",
   "metadata": {},
   "source": [
    "Now we compare our predictions to y_test: the actual values associated with X_test from the dataset. We use Root Mean Squared Error (RMSE) to find the average difference between the predicted values and the actual values."
   ]
  },
  {
   "cell_type": "code",
   "execution_count": 19,
   "id": "665b3d40",
   "metadata": {},
   "outputs": [
    {
     "name": "stdout",
     "output_type": "stream",
     "text": [
      "Root mean squared error is:  5.38\n"
     ]
    }
   ],
   "source": [
    "rmse = (np.sqrt(mean_squared_error(y_test, y_test_predicted))).round(2)\n",
    "print(\"Root mean squared error is: \", rmse)"
   ]
  },
  {
   "cell_type": "markdown",
   "id": "399af6ed",
   "metadata": {},
   "source": [
    "This is a pretty low value for RMSE (considering the scale we are working with), which means that our model is fairly accurate. This is supported when we compare our RMSE of 5.38 to MEDV's standard deviation of 9.20."
   ]
  }
 ],
 "metadata": {
  "kernelspec": {
   "display_name": "Python 3 (ipykernel)",
   "language": "python",
   "name": "python3"
  },
  "language_info": {
   "codemirror_mode": {
    "name": "ipython",
    "version": 3
   },
   "file_extension": ".py",
   "mimetype": "text/x-python",
   "name": "python",
   "nbconvert_exporter": "python",
   "pygments_lexer": "ipython3",
   "version": "3.8.5"
  }
 },
 "nbformat": 4,
 "nbformat_minor": 5
}
